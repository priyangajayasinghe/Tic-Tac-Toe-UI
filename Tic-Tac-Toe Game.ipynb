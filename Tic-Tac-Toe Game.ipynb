{
 "cells": [
  {
   "cell_type": "markdown",
   "id": "6c384da1-3234-4a6f-89ae-630cf755ae13",
   "metadata": {},
   "source": [
    "# Tic-Tac-Toe Game "
   ]
  },
  {
   "cell_type": "markdown",
   "id": "6ec298db-efff-41b0-a0bf-32b79506711a",
   "metadata": {},
   "source": [
    "## Group Project - Team 5"
   ]
  },
  {
   "cell_type": "markdown",
   "id": "f2155d83-56d2-457a-b7d2-c84c3ecd9759",
   "metadata": {},
   "source": [
    "### Sara Ahmadi\n",
    "### Mohammad Mirmahdian\n",
    "### Phuong Uyen Nguyen\n",
    "### Ye Mon Kyaw\n",
    "### Priyanga Jayasinghe\n",
    "### Melika Payandeh"
   ]
  },
  {
   "cell_type": "markdown",
   "id": "aa54e00f-5d3a-437a-87fe-757fae853251",
   "metadata": {},
   "source": [
    "1.Tic-Tac-ToeThis game is very popular and even fun to build as a Python project. The game: It is a two-player game and consists of a nine-square grid. Each player chooses their move and with O or X and marks their square one at each chance. The player who succeeds in making their marks all in one line whether diagonally, horizontally, or vertically wins. The challenge for the other player is to block the game for their opponent and also to make their chain. Try to create a basic game what can be played once at least and will display which player is the winner."
   ]
  },
  {
   "cell_type": "markdown",
   "id": "f9d3e161-0d1e-4b46-a370-cc898415e46a",
   "metadata": {},
   "source": [
    "### Define the print board function"
   ]
  },
  {
   "cell_type": "code",
   "execution_count": 1,
   "id": "a3ac7bc1-d403-4bfb-95cd-45ba0e74dd52",
   "metadata": {},
   "outputs": [],
   "source": [
    "def print_board(board):\n",
    "    print()\n",
    "    print(f\" {board[0]} | {board[1]} | {board[2]} \")\n",
    "    print(\"---|---|---\")\n",
    "    print(f\" {board[3]} | {board[4]} | {board[5]} \")\n",
    "    print(\"---|---|---\")\n",
    "    print(f\" {board[6]} | {board[7]} | {board[8]} \")\n",
    "    print()"
   ]
  },
  {
   "cell_type": "markdown",
   "id": "c04750f8-fcc8-4815-bb51-03796a828423",
   "metadata": {},
   "source": [
    "### Define the check_winner function"
   ]
  },
  {
   "cell_type": "code",
   "execution_count": 2,
   "id": "c69728e6-003e-44d2-adc2-90c5fe877b15",
   "metadata": {},
   "outputs": [],
   "source": [
    "def check_winner(board, player):\n",
    "    win_conditions = [\n",
    "        [0, 1, 2], [3, 4, 5], [6, 7, 8],  # rows\n",
    "        [0, 3, 6], [1, 4, 7], [2, 5, 8],  # columns\n",
    "        [0, 4, 8], [2, 4, 6]              # diagonals\n",
    "    ]\n",
    "    for condition in win_conditions:\n",
    "        if board[condition[0]] == board[condition[1]] == board[condition[2]] == player:\n",
    "            return True\n",
    "    return False"
   ]
  },
  {
   "cell_type": "markdown",
   "id": "bbf4ddc0-eba1-4ce0-b179-ed499c2fd5f0",
   "metadata": {},
   "source": [
    "### Define the tic_tac_toe function"
   ]
  },
  {
   "cell_type": "code",
   "execution_count": 3,
   "id": "72628851-9475-4d52-abd9-a70a10d8c262",
   "metadata": {},
   "outputs": [
    {
     "name": "stdout",
     "output_type": "stream",
     "text": [
      "\n",
      "   |   |   \n",
      "---|---|---\n",
      "   |   |   \n",
      "---|---|---\n",
      "   |   |   \n",
      "\n"
     ]
    },
    {
     "name": "stdin",
     "output_type": "stream",
     "text": [
      "Player X, choose your move (1-9):  1\n"
     ]
    },
    {
     "name": "stdout",
     "output_type": "stream",
     "text": [
      "\n",
      " X |   |   \n",
      "---|---|---\n",
      "   |   |   \n",
      "---|---|---\n",
      "   |   |   \n",
      "\n"
     ]
    },
    {
     "name": "stdin",
     "output_type": "stream",
     "text": [
      "Player O, choose your move (1-9):  5\n"
     ]
    },
    {
     "name": "stdout",
     "output_type": "stream",
     "text": [
      "\n",
      " X |   |   \n",
      "---|---|---\n",
      "   | O |   \n",
      "---|---|---\n",
      "   |   |   \n",
      "\n"
     ]
    },
    {
     "name": "stdin",
     "output_type": "stream",
     "text": [
      "Player X, choose your move (1-9):  3\n"
     ]
    },
    {
     "name": "stdout",
     "output_type": "stream",
     "text": [
      "\n",
      " X |   | X \n",
      "---|---|---\n",
      "   | O |   \n",
      "---|---|---\n",
      "   |   |   \n",
      "\n"
     ]
    },
    {
     "name": "stdin",
     "output_type": "stream",
     "text": [
      "Player O, choose your move (1-9):  4\n"
     ]
    },
    {
     "name": "stdout",
     "output_type": "stream",
     "text": [
      "\n",
      " X |   | X \n",
      "---|---|---\n",
      " O | O |   \n",
      "---|---|---\n",
      "   |   |   \n",
      "\n"
     ]
    },
    {
     "name": "stdin",
     "output_type": "stream",
     "text": [
      "Player X, choose your move (1-9):  1\n"
     ]
    },
    {
     "name": "stdout",
     "output_type": "stream",
     "text": [
      "Invalid move. Try again.\n",
      "\n",
      " X |   | X \n",
      "---|---|---\n",
      " O | O |   \n",
      "---|---|---\n",
      "   |   |   \n",
      "\n"
     ]
    },
    {
     "name": "stdin",
     "output_type": "stream",
     "text": [
      "Player X, choose your move (1-9):  6\n"
     ]
    },
    {
     "name": "stdout",
     "output_type": "stream",
     "text": [
      "\n",
      " X |   | X \n",
      "---|---|---\n",
      " O | O | X \n",
      "---|---|---\n",
      "   |   |   \n",
      "\n"
     ]
    },
    {
     "name": "stdin",
     "output_type": "stream",
     "text": [
      "Player O, choose your move (1-9):  8\n"
     ]
    },
    {
     "name": "stdout",
     "output_type": "stream",
     "text": [
      "\n",
      " X |   | X \n",
      "---|---|---\n",
      " O | O | X \n",
      "---|---|---\n",
      "   | O |   \n",
      "\n"
     ]
    },
    {
     "name": "stdin",
     "output_type": "stream",
     "text": [
      "Player X, choose your move (1-9):  9\n"
     ]
    },
    {
     "name": "stdout",
     "output_type": "stream",
     "text": [
      "\n",
      " X |   | X \n",
      "---|---|---\n",
      " O | O | X \n",
      "---|---|---\n",
      "   | O | X \n",
      "\n",
      "Congratulations! Player X wins!\n"
     ]
    }
   ],
   "source": [
    "def tic_tac_toe():\n",
    "    board = [' '] * 9\n",
    "    current_player = 'X'\n",
    "    moves = 0\n",
    "\n",
    "    while moves < 9:\n",
    "        print_board(board)\n",
    "        try:\n",
    "            move = int(input(f\"Player {current_player}, choose your move (1-9): \")) - 1\n",
    "            if move < 0 or move > 8 or board[move] != ' ':\n",
    "                print(\"Invalid move. Try again.\")\n",
    "                continue\n",
    "        except ValueError:\n",
    "            print(\"Invalid input. Please enter a number between 1 and 9.\")\n",
    "            continue\n",
    "\n",
    "        board[move] = current_player\n",
    "        moves += 1\n",
    "\n",
    "        if check_winner(board, current_player):\n",
    "            print_board(board)\n",
    "            print(f\"Congratulations! Player {current_player} wins!\")\n",
    "            return\n",
    "\n",
    "        current_player = 'O' if current_player == 'X' else 'X'\n",
    "\n",
    "    print_board(board)\n",
    "    print(\"It's a tie!\")\n",
    "\n",
    "# Start the game\n",
    "tic_tac_toe()"
   ]
  },
  {
   "cell_type": "markdown",
   "id": "6f23f9c9-684d-4a1f-beb3-e2f4b8daa31b",
   "metadata": {
    "jp-MarkdownHeadingCollapsed": true
   },
   "source": [
    "### GitHub - https://github.com/priyangajayasinghe/Tic-Tac-Toe-UI/blob/main/Tic-Tac-Toe%20Game.ipynb "
   ]
  }
 ],
 "metadata": {
  "kernelspec": {
   "display_name": "Python 3 (ipykernel)",
   "language": "python",
   "name": "python3"
  },
  "language_info": {
   "codemirror_mode": {
    "name": "ipython",
    "version": 3
   },
   "file_extension": ".py",
   "mimetype": "text/x-python",
   "name": "python",
   "nbconvert_exporter": "python",
   "pygments_lexer": "ipython3",
   "version": "3.12.7"
  },
  "panel-cell-order": [
   "1c16959e-806f-4c09-b95d-fe45590fbc20",
   "c1f1d1bf-cfa6-4acf-a171-59ea5a645c3a",
   "fa58c266-bc31-4da0-80c1-d451f2edd3f0",
   "9494b138-1128-43da-8f5e-8d27cbe40999",
   "0030eb0b-3d87-4e4b-b81b-b582b8ab6082"
  ]
 },
 "nbformat": 4,
 "nbformat_minor": 5
}
