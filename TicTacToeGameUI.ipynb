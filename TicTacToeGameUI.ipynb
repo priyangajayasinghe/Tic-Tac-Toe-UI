{
 "cells": [
  {
   "cell_type": "markdown",
   "id": "6c384da1-3234-4a6f-89ae-630cf755ae13",
   "metadata": {},
   "source": [
    "# Tic-Tac-Toe Game "
   ]
  },
  {
   "cell_type": "markdown",
   "id": "6ec298db-efff-41b0-a0bf-32b79506711a",
   "metadata": {},
   "source": [
    "## Group Project - Team 5"
   ]
  },
  {
   "cell_type": "markdown",
   "id": "f2155d83-56d2-457a-b7d2-c84c3ecd9759",
   "metadata": {},
   "source": [
    "### Sara Ahmadi\n",
    "### Mohammad Mirmahdian\n",
    "### Phuong Uyen Nguyen\n",
    "### Ye Mon Kyaw\n",
    "### Priyanga Jayasinghe\n",
    "### Melika Payandeh"
   ]
  },
  {
   "cell_type": "markdown",
   "id": "aa54e00f-5d3a-437a-87fe-757fae853251",
   "metadata": {},
   "source": [
    "1.Tic-Tac-ToeThis game is very popular and even fun to build as a Python project. The game: It is a two-player game and consists of a nine-square grid. Each player chooses their move and with O or X and marks their square one at each chance. The player who succeeds in making their marks all in one line whether diagonally, horizontally, or vertically wins. The challenge for the other player is to block the game for their opponent and also to make their chain. Try to create a basic game what can be played once at least and will display which player is the winner."
   ]
  },
  {
   "cell_type": "markdown",
   "id": "7707a32f-874d-41f5-b867-a2222fe86894",
   "metadata": {},
   "source": [
    "### Import Libraries"
   ]
  },
  {
   "cell_type": "code",
   "execution_count": 69,
   "id": "1d4358b2-3905-477f-b2c2-f03582285fad",
   "metadata": {},
   "outputs": [],
   "source": [
    "import tkinter as tk\n",
    "from tkinter import messagebox\n",
    "\n",
    "class TicTacToe:\n",
    "    def __init__(self, root):\n",
    "        self.root = root\n",
    "        self.root.title(\"Tic-Tac-Toe\")\n",
    "        \n",
    "        self.board = [None] * 9  \n",
    "        self.current_player = 'X'\n",
    "        \n",
    "        self.buttons = []\n",
    "        for i in range(9):\n",
    "            button = tk.Button(\n",
    "                self.root, text='', font=('normal', 20), width=15, height=5,\n",
    "                command=lambda index=i: self.make_move(index)\n",
    "            )\n",
    "            button.grid(row=i//3, column=i%3)\n",
    "            self.buttons.append(button)\n",
    "        \n",
    "        self.status_label = tk.Label(self.root, text=\"Next player: X\", font=('normal', 15))\n",
    "        self.status_label.grid(row=3, column=0, columnspan=3)\n",
    "\n",
    "    def make_move(self, index):\n",
    "        if self.board[index] is None:  \n",
    "            self.board[index] = self.current_player\n",
    "            self.buttons[index].config(text=self.current_player)\n",
    "            \n",
    "            if self.check_winner():\n",
    "                messagebox.showinfo(\"Game Over\", f\"{self.current_player} wins!\")\n",
    "                self.reset_game()\n",
    "            elif None not in self.board:\n",
    "                messagebox.showinfo(\"Game Over\", \"It's a draw!\")\n",
    "                self.reset_game()\n",
    "            else:\n",
    "                self.current_player = 'O' if self.current_player == 'X' else 'X'\n",
    "                self.status_label.config(text=f\"Next player: {self.current_player}\")\n",
    "    \n",
    "    def check_winner(self):\n",
    "        win_conditions = [\n",
    "            [0, 1, 2], [3, 4, 5], [6, 7, 8],  # Rows\n",
    "            [0, 3, 6], [1, 4, 7], [2, 5, 8],  # Columns\n",
    "            [0, 4, 8], [2, 4, 6]              # Diagonals\n",
    "        ]\n",
    "        \n",
    "        for a, b, c in win_conditions:\n",
    "            if self.board[a] == self.board[b] == self.board[c] and self.board[a] is not None:\n",
    "                return True\n",
    "        return False\n",
    "\n",
    "    def reset_game(self):\n",
    "        # Reset the board and UI\n",
    "        self.board = [None] * 9\n",
    "        for button in self.buttons:\n",
    "            button.config(text='')\n",
    "        self.current_player = 'X'\n",
    "        self.status_label.config(text=\"Next player: X\")\n",
    "\n",
    "\n",
    "root = tk.Tk()\n",
    "game = TicTacToe(root)\n",
    "root.mainloop()"
   ]
  },
  {
   "cell_type": "markdown",
   "id": "af0fc1e2-c1f8-473c-91a7-e90a4cf4e8ac",
   "metadata": {},
   "source": [
    "### GitHub - https://github.com/priyangajayasinghe/Tic-Tac-Toe-UI/blob/main/TicTacToeGameUI.ipynb"
   ]
  }
 ],
 "metadata": {
  "kernelspec": {
   "display_name": "Python 3 (ipykernel)",
   "language": "python",
   "name": "python3"
  },
  "language_info": {
   "codemirror_mode": {
    "name": "ipython",
    "version": 3
   },
   "file_extension": ".py",
   "mimetype": "text/x-python",
   "name": "python",
   "nbconvert_exporter": "python",
   "pygments_lexer": "ipython3",
   "version": "3.12.7"
  },
  "panel-cell-order": [
   "1c16959e-806f-4c09-b95d-fe45590fbc20",
   "c1f1d1bf-cfa6-4acf-a171-59ea5a645c3a",
   "fa58c266-bc31-4da0-80c1-d451f2edd3f0",
   "9494b138-1128-43da-8f5e-8d27cbe40999",
   "0030eb0b-3d87-4e4b-b81b-b582b8ab6082"
  ]
 },
 "nbformat": 4,
 "nbformat_minor": 5
}
